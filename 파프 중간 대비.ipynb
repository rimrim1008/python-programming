{
 "cells": [
  {
   "cell_type": "markdown",
   "id": "4e0b8728",
   "metadata": {},
   "source": [
    "# 사각형 그리기\n",
    "사용자로부터 가로(width)와 세로(height)값 입력받아, 해당 크기의 사각형을 * 문자로 출력하시오."
   ]
  },
  {
   "cell_type": "code",
   "execution_count": 2,
   "id": "827c9ee0",
   "metadata": {},
   "outputs": [
    {
     "name": "stdout",
     "output_type": "stream",
     "text": [
      "*****\n",
      "*****\n",
      "*****\n",
      "*****\n",
      "*****\n",
      "*****\n",
      "*****\n",
      "*****\n"
     ]
    }
   ],
   "source": [
    "w = int(input('가로 길이를 입력하세요 : '))\n",
    "h = int(input('세로 길이를 입력하세요. : '))\n",
    "\n",
    "for i in range(1,h+1):\n",
    "    print(w*'*')"
   ]
  },
  {
   "cell_type": "markdown",
   "id": "19bf801c",
   "metadata": {},
   "source": [
    "# 비트 연산\n",
    "사용자로부터 두 개의 정수를 입력받아 AND, OR, XOR 연산 결과를 출력하시오."
   ]
  },
  {
   "cell_type": "code",
   "execution_count": 5,
   "id": "02d20145",
   "metadata": {},
   "outputs": [
    {
     "name": "stdout",
     "output_type": "stream",
     "text": [
      "0b10000100000100100\n",
      "0b11001111110101010101110\n",
      "0b11001101110001010001010\n"
     ]
    }
   ],
   "source": [
    "n1 = int(input('첫 번째 정수 : '))\n",
    "n2 = int(input('두 번째 정수 : '))\n",
    "print(bin(n1&n2))\n",
    "print(bin(n1|n2))\n",
    "print(bin(n1^n2))"
   ]
  },
  {
   "cell_type": "markdown",
   "id": "7b5c3b8f",
   "metadata": {},
   "source": [
    "# 환전 시스템\n",
    "사용자가 입력한 금액(원)을 달러($)로 환전하세요.\n",
    "\n",
    "(4주차 연습문제 5.1인듯?)"
   ]
  },
  {
   "cell_type": "code",
   "execution_count": 10,
   "id": "c626dce5",
   "metadata": {},
   "outputs": [
    {
     "name": "stdout",
     "output_type": "stream",
     "text": [
      "###환율 변환 모듈 테스트###\n",
      "오늘의 환율 1010\n",
      "2020원 =  2.0 달러\n",
      "2 달러 = 2020 원\n"
     ]
    }
   ],
   "source": [
    "# exchange_rate는 환율 1달러에 대한 원화 비율을 저장하는 '전역'변수\n",
    "exchange_rate = 0\n",
    "\n",
    "# set_rate(won)은 1달러에 대한 원화값을 입력받아 wxchange_rate를 설정하는 함수\n",
    "def set_rate(rate):\n",
    "    global exchange_rate\n",
    "    exchange_rate = rate\n",
    "\n",
    "# get_rate()는 set_rate()로 설정한 환율을 반환하는 함수\n",
    "def get_rate():\n",
    "    return exchange_rate\n",
    "\n",
    "# to_dallar(won) 원화 -> 달러화로 환전한 값을 반환하는 함수\n",
    "def to_dallar(won):\n",
    "    return won / exchange_rate\n",
    "\n",
    "# to_won(dollar) 달러화 -> 원화로 환전한 값을 반환하는 함수\n",
    "def to_won(dallar):\n",
    "    return dallar * exchange_rate\n",
    "\n",
    "# main()\n",
    "def main():\n",
    "    print('###환율 변환 모듈 테스트###')\n",
    "    set_rate(1010)\n",
    "    print('오늘의 환율', get_rate())\n",
    "    print('2020원 = ', to_dallar(2020),'달러')\n",
    "    print('2 달러 =' , to_won(2), '원')\n",
    "    \n",
    "if __name__ == '__main__':\n",
    "    main()"
   ]
  },
  {
   "cell_type": "markdown",
   "id": "aecaa1e9",
   "metadata": {},
   "source": [
    "# 누진세 계산\n",
    "누진세 정책에 따라 세금을 계산하시오. 소득 금액에 따라 다음과 같이 세율이 적용됩니다.\n",
    "- 소득구간(원) => 세율(%)\n",
    "- 1,200,000원 이하 => 6%\n",
    "- 4,600,000 원 이하 => 15%\n",
    "- 8,800,000 원 이하 => 24%\n",
    "- 그 이상 => 35%"
   ]
  },
  {
   "cell_type": "code",
   "execution_count": 11,
   "id": "ec662410",
   "metadata": {},
   "outputs": [
    {
     "name": "stdout",
     "output_type": "stream",
     "text": [
      "19444444.25\n"
     ]
    }
   ],
   "source": [
    "s = int(input('소득? :'))\n",
    "\n",
    "if s <= 1200000:\n",
    "    print(s*0.06)\n",
    "elif s <= 4600000:\n",
    "    print(s*0.15)\n",
    "elif s <= 8800000:\n",
    "    print(s*0.24)\n",
    "else:\n",
    "    print(s*0.35)"
   ]
  },
  {
   "cell_type": "markdown",
   "id": "d5002002",
   "metadata": {},
   "source": [
    "# 랜덤 문자열 출력\n",
    "사용자로부터 문자 개수를 입력받아 랜덤한 알파벳 대문자로 구성되 문자열을 생성하세요."
   ]
  }
 ],
 "metadata": {
  "kernelspec": {
   "display_name": "Python 3",
   "language": "python",
   "name": "python3"
  },
  "language_info": {
   "codemirror_mode": {
    "name": "ipython",
    "version": 3
   },
   "file_extension": ".py",
   "mimetype": "text/x-python",
   "name": "python",
   "nbconvert_exporter": "python",
   "pygments_lexer": "ipython3",
   "version": "3.12.8"
  }
 },
 "nbformat": 4,
 "nbformat_minor": 5
}
