{
 "cells": [
  {
   "cell_type": "code",
   "execution_count": 1,
   "id": "139c4b29",
   "metadata": {},
   "outputs": [
    {
     "name": "stdout",
     "output_type": "stream",
     "text": [
      "123번 이찬수\n"
     ]
    }
   ],
   "source": [
    "def input_list(lst):\n",
    "    name = input('이름? ')\n",
    "    num = input('번호? ')\n",
    "    \n",
    "    lst.append(name)\n",
    "    lst.append(num)\n",
    "    \n",
    "# 주 프로그램부\n",
    "userinfo = []\n",
    "input_list(userinfo)\n",
    "print(f'{userinfo[1]}번 {userinfo[0]}')"
   ]
  },
  {
   "cell_type": "code",
   "execution_count": 2,
   "id": "034ac021",
   "metadata": {},
   "outputs": [
    {
     "name": "stdout",
     "output_type": "stream",
     "text": [
      "123번 이찬수\n"
     ]
    }
   ],
   "source": [
    "def input_list(lst):\n",
    "    name = input('이름? ')\n",
    "    num = input('번호? ')\n",
    "    \n",
    "    LST = []\n",
    "    lst.append(name)\n",
    "    lst.append(num)\n",
    "    return lst\n",
    "    \n",
    "# 주 프로그램부\n",
    "userinfo = []\n",
    "input_list(userinfo)\n",
    "print(f'{userinfo[1]}번 {userinfo[0]}')"
   ]
  },
  {
   "cell_type": "code",
   "execution_count": 3,
   "id": "616df09a",
   "metadata": {},
   "outputs": [
    {
     "name": "stdout",
     "output_type": "stream",
     "text": [
      "당신의 생일을 입력하세요:\n",
      "당신의 만 60번째 생일은 2063년 10월 8일입니다.\n"
     ]
    }
   ],
   "source": [
    "# 사용자 정의 함수부\n",
    "def get_date():\n",
    "    y = int(input('연도? '))\n",
    "    m = int(input('월? '))\n",
    "    d = int(input('일 ?'))\n",
    "    return (y,m,d)\n",
    "\n",
    "# 주 프로그램부\n",
    "print('당신의 생일을 입력하세요:')\n",
    "bday = get_date()\n",
    "print(f'당신의 만 60번째 생일은 {bday[0] + 60}년 {bday[1]}월 {bday[2]}일입니다.')"
   ]
  },
  {
   "cell_type": "code",
   "execution_count": 5,
   "id": "2dc9afdf",
   "metadata": {},
   "outputs": [
    {
     "name": "stdout",
     "output_type": "stream",
     "text": [
      "단출하게/단아하게/당당하게/"
     ]
    }
   ],
   "source": [
    "msgs = ['단출하게', '단아하게', '당당하게']\n",
    "for e in msgs:\n",
    "    print(f'{e}/', end='')"
   ]
  },
  {
   "cell_type": "code",
   "execution_count": 9,
   "id": "96b49d13",
   "metadata": {},
   "outputs": [
    {
     "name": "stdout",
     "output_type": "stream",
     "text": [
      "단출하게/단아하게/당당하게/"
     ]
    }
   ],
   "source": [
    "msgs = ['단출하게', '단아하게', '당당하게']\n",
    "for i in range(len(msgs)):\n",
    "    print(f'{msgs[i]}/', end='')"
   ]
  },
  {
   "cell_type": "code",
   "execution_count": null,
   "id": "d3364824",
   "metadata": {},
   "outputs": [
    {
     "name": "stdout",
     "output_type": "stream",
     "text": [
      "당당하게/단아하게/단출하게/"
     ]
    }
   ],
   "source": [
    "msgs = ['단출하게', '단아하게', '당당하게']\n",
    "for i in range(len(msgs) -1, -1, -1):\n",
    "    print(f'{msgs[i]}/' end='')"
   ]
  },
  {
   "cell_type": "markdown",
   "id": "6cf5f5a2",
   "metadata": {},
   "source": [
    "# 인구조사 프로그램 실행 예"
   ]
  },
  {
   "cell_type": "code",
   "execution_count": null,
   "id": "7ba20622",
   "metadata": {},
   "outputs": [],
   "source": [
    "# 주프로그램부\n",
    "# 1~4층의 거주인원수를 입력받음\n",
    "population = i\n",
    "# 입력받은 1~4층의 거주인원수를 출력\n",
    "show_num_of_population(population)\n",
    "\n",
    "# total = 입력받은 1~4층의 거주인원수의 총합을 구함\n",
    "total = get_total(population)\n",
    "\n",
    "# 총 거주인원수(total) 출력\n",
    "print(f'총 거주인원수는 {total}명입니다.')\n",
    "\n"
   ]
  },
  {
   "cell_type": "code",
   "execution_count": null,
   "id": "26962dca",
   "metadata": {},
   "outputs": [],
   "source": [
    "# 2단계 : 각 층의 거주인원수 입력 함수 구현\n",
    "\n",
    "# (1안)\n",
    "def input_num_of_population():\n",
    "    nPeople = [0,0,0,0]\n",
    "    for f in range(1,5):\n",
    "        nPeople[f-1] = int(input(f'{f}층의 거주인원수는?'))\n",
    "    return nPeople\n",
    "\n",
    "\n",
    "# (2안)\n",
    "def input_num_of_population():\n",
    "    nPeople = [0,0,0,0]\n",
    "    for f in range(4):\n",
    "        n = int(input(f'{f+1}층의 거주인원수는?'))\n",
    "    return nPeople\n",
    "\n",
    "# (3안)\n",
    "def input_num_of_population():\n",
    "    nPeople = []\n",
    "    for f in range(4):\n",
    "        n = int(input(f'{f+1}층의 거주인원수는?'))\n",
    "        nPeople.append(n)\n",
    "    return nPeople\n"
   ]
  },
  {
   "cell_type": "code",
   "execution_count": null,
   "id": "0ceab5f8",
   "metadata": {},
   "outputs": [],
   "source": [
    "# 3단계 : 각 층의 거주인원수 입력 함수 구현"
   ]
  },
  {
   "cell_type": "markdown",
   "id": "bbfdde38",
   "metadata": {},
   "source": [
    "몰라 이 뒤로도 뭐 개많은데\n",
    "시간ㅇ ㅓㅄ어서 타자 칠 시간 안줌"
   ]
  },
  {
   "cell_type": "code",
   "execution_count": 12,
   "id": "52f2c334",
   "metadata": {},
   "outputs": [
    {
     "name": "stdout",
     "output_type": "stream",
     "text": [
      "1층의 거주인원수는 5명입니다.\n",
      "2층의 거주인원수는 4명입니다.\n",
      "3층의 거주인원수는 3명입니다.\n",
      "4층의 거주인원수는 2명입니다.\n",
      "총 거주인원수는 14명입니다.\n"
     ]
    }
   ],
   "source": [
    "# 사용자 정의 함수부\n",
    "# 코드 10-13\n",
    "def input_num_of_population():\n",
    "    nPeople = []\n",
    "    for f in range(4):\n",
    "        n = int(input(f'{f+1}층의 거주인원수는?'))\n",
    "        nPeople.append(n)\n",
    "    # 입력받은 거주인원수를 호출측으로 반환\n",
    "    return nPeople\n",
    "\n",
    "# 코드 1-=0-14\n",
    "def show_num_of_population(p):\n",
    "    cnt = len(p)\n",
    "    for i in range(cnt):\n",
    "        print(f'{i+1}층의 거주인원수는 {p[i]}명입니다.')\n",
    "        \n",
    "# 코드 10-20\n",
    "def get_total(lst):\n",
    "    total = 0\n",
    "    for n in lst:\n",
    "        total += n\n",
    "    return total\n",
    "\n",
    "\n",
    "\n",
    "# 주프로그램부 : 코드 10-7\n",
    "# 1~4층의 거주인원수를 입력받음\n",
    "population = input_num_of_population()\n",
    "# 입력받은 1~4층의 거주인원수를 출력\n",
    "show_num_of_population(population)\n",
    "\n",
    "# total = 입력받은 1~4층의 거주인원수의 총합을 구함\n",
    "total = get_total(population)\n",
    "\n",
    "# 총 거주인원수(total) 출력\n",
    "print(f'총 거주인원수는 {total}명입니다.')"
   ]
  },
  {
   "cell_type": "code",
   "execution_count": null,
   "id": "91e0bdf2",
   "metadata": {},
   "outputs": [
    {
     "name": "stdout",
     "output_type": "stream",
     "text": [
      "1층의 거주인원수는 2명입니다.\n",
      "2층의 거주인원수는 4명입니다.\n",
      "3층의 거주인원수는 5명입니다.\n",
      "총 거주인원수는 11명입니다.\n"
     ]
    }
   ],
   "source": [
    "# 4층이 아니라 3층으로 바꿔보기\n",
    "\n",
    "# 사용자 정의 함수부\n",
    "# 코드 10-13\n",
    "def input_num_of_population():\n",
    "    nPeople = []\n",
    "    for f in range(3):\n",
    "        n = int(input(f'{f+1}층의 거주인원수는?'))\n",
    "        nPeople.append(n)\n",
    "    # 입력받은 거주인원수를 호출측으로 반환\n",
    "    return nPeople\n",
    "\n",
    "# 코드 1-=0-14\n",
    "def show_num_of_population(p):\n",
    "    cnt = len(p)\n",
    "    for i in range(cnt):\n",
    "        print(f'{i+1}층의 거주인원수는 {p[i]}명입니다.')\n",
    "        \n",
    "# 코드 10-20\n",
    "def get_total(lst):\n",
    "    total = 0\n",
    "    for n in lst:\n",
    "        total += n\n",
    "    return total\n",
    "\n",
    "\n",
    "\n",
    "# 주프로그램부 : 코드 10-7\n",
    "# 1~4층의 거주인원수를 입력받음\n",
    "population = input_num_of_population()\n",
    "# 입력받은 1~4층의 거주인원수를 출력\n",
    "show_num_of_population(population)\n",
    "\n",
    "# total = 입력받은 1~4층의 거주인원수의 총합을 구함\n",
    "total = get_total(population)\n",
    "\n",
    "# 총 거주인원수(total) 출력\n",
    "print(f'총 거주인원수는 {total}명입니다.')"
   ]
  },
  {
   "cell_type": "markdown",
   "id": "158e14eb",
   "metadata": {},
   "source": [
    "# 이중 리스트"
   ]
  },
  {
   "cell_type": "code",
   "execution_count": 14,
   "id": "6bc6cab3",
   "metadata": {},
   "outputs": [
    {
     "name": "stdout",
     "output_type": "stream",
     "text": [
      "[['이찬수', 95, 85], ['홍길동', 90, 80]]\n",
      "['이찬수', 95, 85]\n",
      "이찬수\n"
     ]
    }
   ],
   "source": [
    "scores = [\n",
    "    ['이찬수', 95, 85],\n",
    "    ['홍길동', 90, 80]\n",
    "    ]\n",
    "\n",
    "print(scores)\n",
    "print(scores[0])\n",
    "print(scores[0][0])"
   ]
  },
  {
   "cell_type": "code",
   "execution_count": 15,
   "id": "1ca2c77a",
   "metadata": {},
   "outputs": [
    {
     "name": "stdout",
     "output_type": "stream",
     "text": [
      "이찬수/95/85/\n",
      "홍길동/90/80/\n"
     ]
    }
   ],
   "source": [
    "scores = [\n",
    "    ['이찬수', 95, 85],\n",
    "    ['홍길동', 90, 80]\n",
    "    ]\n",
    "\n",
    "for g in scores:\n",
    "    for e in g:\n",
    "        print(e, end='/')\n",
    "    print()"
   ]
  },
  {
   "cell_type": "code",
   "execution_count": 16,
   "id": "02a82358",
   "metadata": {},
   "outputs": [
    {
     "name": "stdout",
     "output_type": "stream",
     "text": [
      "이찬수/95/85/\n",
      "홍길동/90/80/\n"
     ]
    }
   ],
   "source": [
    "for gi in range(len(scores)):\n",
    "    for ei in range(len(scores[gi])):\n",
    "        print(scores[gi][ei], end='/')\n",
    "    print()"
   ]
  },
  {
   "cell_type": "code",
   "execution_count": 18,
   "id": "2e74e4dd",
   "metadata": {},
   "outputs": [
    {
     "name": "stdout",
     "output_type": "stream",
     "text": [
      "python 파이썬\n",
      "basic 기초\n",
      "programming 프로그래밍\n"
     ]
    }
   ],
   "source": [
    "d = {\n",
    "    'python': '파이썬',\n",
    "    'basic':'기초',\n",
    "    'programming':'프로그래밍'\n",
    "}\n",
    "\n",
    "for key in d.keys():\n",
    "    print(key, d[key])"
   ]
  },
  {
   "cell_type": "code",
   "execution_count": 19,
   "id": "14f8b417",
   "metadata": {},
   "outputs": [
    {
     "name": "stdout",
     "output_type": "stream",
     "text": [
      "python 파이썬\n",
      "basic 기초\n",
      "programming 프로그래밍\n"
     ]
    }
   ],
   "source": [
    "for key in d:\n",
    "    print(key, d[key])"
   ]
  },
  {
   "cell_type": "code",
   "execution_count": 20,
   "id": "405bffd2",
   "metadata": {},
   "outputs": [
    {
     "name": "stdout",
     "output_type": "stream",
     "text": [
      "파이썬\n",
      "오류: 잘못된 키\n"
     ]
    }
   ],
   "source": [
    "def dict_get(dic, key):\n",
    "    if key in dic:\n",
    "        return dic[key]\n",
    "    else:\n",
    "        return None\n",
    "\n",
    "d = {'python': '파이썬', 'basic':'기초', 'programming':'프로그래밍'}\n",
    "\n",
    "res = dict.get(d, 'python')\n",
    "if res != None:\n",
    "    print(res)\n",
    "else:\n",
    "    print('오류: 잘못된 키')\n",
    "\n",
    "res = dict.get(d,0)\n",
    "if res != None:\n",
    "    print(res)\n",
    "else:\n",
    "    print('오류: 잘못된 키')\n",
    "    \n"
   ]
  },
  {
   "cell_type": "code",
   "execution_count": 21,
   "id": "b52fbc56",
   "metadata": {},
   "outputs": [
    {
     "name": "stdout",
     "output_type": "stream",
     "text": [
      "추가 성공\n",
      "두 번째 추가 실패\n",
      "{'python': '파이썬', 'basic': '기초', 'programming': '프로그래밍', 'PYTHON': '파이썬'}\n"
     ]
    }
   ],
   "source": [
    "def dict_append(dic, key, value):\n",
    "    if key in dic:\n",
    "        return False\n",
    "    \n",
    "    dic[key] = value\n",
    "    return True\n",
    "\n",
    "d = {'python': '파이썬', 'basic':'기초', 'programming':'프로그래밍'}\n",
    "\n",
    "if dict_append(d, 'PYTHON', '파이썬'):\n",
    "    print('추가 성공')\n",
    "else:\n",
    "    print('추가 실패')\n",
    "\n",
    "if dict_append(d, 'basic', '베이직'):\n",
    "    print('두 번째 추가 성공')\n",
    "else:\n",
    "    print('두 번째 추가 실패')\n",
    "    \n",
    "print(d)"
   ]
  },
  {
   "cell_type": "code",
   "execution_count": 22,
   "id": "77b2ea2a",
   "metadata": {},
   "outputs": [
    {
     "name": "stdout",
     "output_type": "stream",
     "text": [
      "삭제 성공\n",
      "{'python': '파이썬', 'programming': '프로그래밍'}\n"
     ]
    }
   ],
   "source": [
    "def dict_delete(dic, key):\n",
    "    if key in dic:\n",
    "        del dic[key]\n",
    "        return True\n",
    "    else:\n",
    "        return False\n",
    "    \n",
    "d = {'python': '파이썬', 'basic':'기초', 'programming':'프로그래밍'}\n",
    "if dict_delete(d, 'basic'):\n",
    "    print('삭제 성공')\n",
    "else:\n",
    "    print('삭제 실패')\n",
    "    \n",
    "print(d)"
   ]
  },
  {
   "cell_type": "markdown",
   "id": "ac7fa181",
   "metadata": {},
   "source": [
    "# 연습문제"
   ]
  },
  {
   "cell_type": "code",
   "execution_count": null,
   "id": "66251636",
   "metadata": {},
   "outputs": [
    {
     "name": "stdout",
     "output_type": "stream",
     "text": [
      "가장 큰 정수는 5 입니다.\n"
     ]
    }
   ],
   "source": [
    "# 연습문제 10.2 (내 코드)\n",
    "\n",
    "# 사용자 정의 함수부\n",
    "def find_max():\n",
    "    for i in range(5):\n",
    "        n = int(input('정수 입력: '))\n",
    "        num.append(n)\n",
    "    M = max(num)\n",
    "    print(f'가장 큰 정수는 {M} 입니다.')\n",
    "\n",
    "# 주 프로그램부\n",
    "num = []\n",
    "find_max()"
   ]
  },
  {
   "cell_type": "code",
   "execution_count": 29,
   "id": "5a44a8e3",
   "metadata": {},
   "outputs": [
    {
     "name": "stdout",
     "output_type": "stream",
     "text": [
      "가장 큰 정수는 [0] 입니다.\n"
     ]
    }
   ],
   "source": [
    "# 연습문제 10.3 (교수님 코드)\n",
    "def fins_max(lst):\n",
    "    m = lst=[0]\n",
    "    for i in range(1, len(lst)):\n",
    "        if lst[i] > m:\n",
    "            m = lst[i]\n",
    "    return m\n",
    "\n",
    "# 주 프로그램부\n",
    "nums = []\n",
    "\n",
    "for i in range(5):\n",
    "    n = int(input('정수 입력: '))\n",
    "    nums.append(n)\n",
    "\n",
    "print(f'가장 큰 정수는 {fins_max(nums)} 입니다.')"
   ]
  },
  {
   "cell_type": "code",
   "execution_count": 41,
   "id": "2d476081",
   "metadata": {},
   "outputs": [
    {
     "name": "stdout",
     "output_type": "stream",
     "text": [
      "[점수 입력]\n",
      "[점수 출력]\n",
      "개인점수 : [95, 82, 100, 90, 97]\n",
      "평균:  92.8\n"
     ]
    }
   ],
   "source": [
    "# 연습문제 10.3 (내 코드)\n",
    "\n",
    "# 사용자 정의 함수부\n",
    "def input_scores():\n",
    "    print('[점수 입력]')\n",
    "    i = 1\n",
    "    while True:\n",
    "        n = int(input(f'#{i}? '))\n",
    "        i += 1\n",
    "        if n < 0:\n",
    "            break\n",
    "        else:\n",
    "            scores.append(n)\n",
    "    return scores\n",
    "\n",
    "def get_average(lst):\n",
    "    avg = sum(scores) / len(scores)\n",
    "    return avg\n",
    "\n",
    "def show_scores():\n",
    "    print('[점수 출력]')\n",
    "    print('개인점수 :', scores)\n",
    "    print('평균: ', get_average(scores))\n",
    "    \n",
    "    \n",
    "# 주 프로그램부\n",
    "scores = []\n",
    "input_scores()\n",
    "get_average(scores)\n",
    "show_scores()"
   ]
  },
  {
   "cell_type": "code",
   "execution_count": 40,
   "id": "75dc5916",
   "metadata": {},
   "outputs": [
    {
     "name": "stdout",
     "output_type": "stream",
     "text": [
      "[점수 입력]\n",
      "/n[점수 출력]\n",
      "개인점수 :"
     ]
    },
    {
     "ename": "TypeError",
     "evalue": "show_scores() takes 0 positional arguments but 1 was given",
     "output_type": "error",
     "traceback": [
      "\u001b[31m---------------------------------------------------------------------------\u001b[39m",
      "\u001b[31mTypeError\u001b[39m                                 Traceback (most recent call last)",
      "\u001b[36mCell\u001b[39m\u001b[36m \u001b[39m\u001b[32mIn[40]\u001b[39m\u001b[32m, line 32\u001b[39m\n\u001b[32m     30\u001b[39m \u001b[38;5;28mprint\u001b[39m(\u001b[33m'\u001b[39m\u001b[33m/n[점수 출력]\u001b[39m\u001b[33m'\u001b[39m)\n\u001b[32m     31\u001b[39m \u001b[38;5;28mprint\u001b[39m(\u001b[33m'\u001b[39m\u001b[33m개인점수 :\u001b[39m\u001b[33m'\u001b[39m, end=\u001b[33m'\u001b[39m\u001b[33m'\u001b[39m)\n\u001b[32m---> \u001b[39m\u001b[32m32\u001b[39m \u001b[43mshow_scores\u001b[49m\u001b[43m(\u001b[49m\u001b[43mscores\u001b[49m\u001b[43m)\u001b[49m\n\u001b[32m     34\u001b[39m avg = get_average(scores)\n\u001b[32m     35\u001b[39m \u001b[38;5;28mprint\u001b[39m(\u001b[33mf\u001b[39m\u001b[33m'\u001b[39m\u001b[33m평균: , \u001b[39m\u001b[38;5;132;01m{\u001b[39;00mavg\u001b[38;5;132;01m:\u001b[39;00m\u001b[33m.1f\u001b[39m\u001b[38;5;132;01m}\u001b[39;00m\u001b[33m'\u001b[39m)\n",
      "\u001b[31mTypeError\u001b[39m: show_scores() takes 0 positional arguments but 1 was given"
     ]
    }
   ],
   "source": [
    "# 연습 문제 10.3 (교수님 코드)\n",
    "# 사용자 정의 함수부\n",
    "def input_scores():\n",
    "    s = []\n",
    "    i = 1\n",
    "    while True:\n",
    "        n = int(input(f'#{i}? '))\n",
    "        if n < 0:\n",
    "            break\n",
    "        else:\n",
    "            s.append(n)\n",
    "            i += 1\n",
    "    return s\n",
    "\n",
    "def get_average(s):\n",
    "    total = 0\n",
    "    for n in s:\n",
    "        total += n\n",
    "    return total / len(s)\n",
    "\n",
    "def show_scores():\n",
    "    for n in s:\n",
    "        print(s, end='')\n",
    "        print()\n",
    "        \n",
    "\n",
    "# 주 프로그램부\n",
    "print('[점수 입력]')\n",
    "scores = input_scores()\n",
    "print('/n[점수 출력]')\n",
    "print('개인점수 :', end='')\n",
    "show_scores(scores)\n",
    "\n",
    "avg = get_average(scores)\n",
    "print(f'평균: , {avg:.1f}')\n"
   ]
  },
  {
   "cell_type": "code",
   "execution_count": 50,
   "id": "58d4c813",
   "metadata": {},
   "outputs": [
    {
     "name": "stdout",
     "output_type": "stream",
     "text": [
      "[검색]\n"
     ]
    },
    {
     "ename": "ValueError",
     "evalue": "invalid literal for int() with base 10: ''",
     "output_type": "error",
     "traceback": [
      "\u001b[31m---------------------------------------------------------------------------\u001b[39m",
      "\u001b[31mValueError\u001b[39m                                Traceback (most recent call last)",
      "\u001b[36mCell\u001b[39m\u001b[36m \u001b[39m\u001b[32mIn[50]\u001b[39m\u001b[32m, line 15\u001b[39m\n\u001b[32m     13\u001b[39m \u001b[38;5;66;03m# 주프로그램부\u001b[39;00m\n\u001b[32m     14\u001b[39m \u001b[38;5;28mprint\u001b[39m(\u001b[33m'\u001b[39m\u001b[33m[검색]\u001b[39m\u001b[33m'\u001b[39m)\n\u001b[32m---> \u001b[39m\u001b[32m15\u001b[39m num = \u001b[38;5;28;43mint\u001b[39;49m\u001b[43m(\u001b[49m\u001b[38;5;28;43minput\u001b[39;49m\u001b[43m(\u001b[49m\u001b[33;43m'\u001b[39;49m\u001b[33;43m찾고자 하는 점수는? \u001b[39;49m\u001b[33;43m'\u001b[39;49m\u001b[43m)\u001b[49m\u001b[43m)\u001b[49m\n\u001b[32m     16\u001b[39m search(scores, num)\n\u001b[32m     17\u001b[39m \u001b[38;5;28;01mif\u001b[39;00m i != \u001b[38;5;28;01mNone\u001b[39;00m:\n",
      "\u001b[31mValueError\u001b[39m: invalid literal for int() with base 10: ''"
     ]
    }
   ],
   "source": [
    "# 연습 문제 10.4\n",
    "\n",
    "# 사용자 정의 함수부\n",
    "def search (list, n):\n",
    "    if n in scores:\n",
    "        for i in range(len(scores)):\n",
    "            scores[i] == n\n",
    "            return i\n",
    "    else:\n",
    "        i = None\n",
    "        return i\n",
    "\n",
    "# 주프로그램부\n",
    "print('[검색]')\n",
    "num = int(input('찾고자 하는 점수는? '))\n",
    "search(scores, num)\n",
    "if i != None:\n",
    "    print(f'{num}점은 {i-1}번 학생의 점수입니다.')\n",
    "else:\n",
    "    print(f'{num}점을 받은 학생은 없습니다.')"
   ]
  }
 ],
 "metadata": {
  "kernelspec": {
   "display_name": "Python 3",
   "language": "python",
   "name": "python3"
  },
  "language_info": {
   "codemirror_mode": {
    "name": "ipython",
    "version": 3
   },
   "file_extension": ".py",
   "mimetype": "text/x-python",
   "name": "python",
   "nbconvert_exporter": "python",
   "pygments_lexer": "ipython3",
   "version": "3.12.8"
  }
 },
 "nbformat": 4,
 "nbformat_minor": 5
}
