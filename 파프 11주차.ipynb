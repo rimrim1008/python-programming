{
 "cells": [
  {
   "cell_type": "markdown",
   "id": "d7c03788",
   "metadata": {},
   "source": [
    "파프 11주차"
   ]
  },
  {
   "cell_type": "code",
   "execution_count": null,
   "id": "f20083b3",
   "metadata": {},
   "outputs": [
    {
     "name": "stdout",
     "output_type": "stream",
     "text": [
      "반지름 1인 원의 둘레는 6.28이고, 넓이는 3.14이다.\n",
      "반지름 1인 원의둘레는 62.80이고,넓이는 62.80이다.\n"
     ]
    }
   ],
   "source": [
    "# 절차지향적으로 원의 둘레와 넓이 구하기\n",
    "# 사용자 정의 함수부\n",
    "def get_circumference(radius):\n",
    "    result = 2 * 3.14 * radius\n",
    "    return result\n",
    "\n",
    "def get_circle_area(radius):\n",
    "    result = 3.14 * radius ** 2\n",
    "    return result\n",
    "\n",
    "# 주 프로그램부\n",
    "small = 1\n",
    "c = get_circumference(small)\n",
    "a = get_circle_area(small)\n",
    "print(f'반지름 {small}인 원의 둘레는 {c:.2f}이고, 넓이는 {a:.2f}이다.')\n",
    "\n",
    "big = 10\n",
    "print(f'반지름 {small}인 원의', end='')\n",
    "print(f'둘레는 {get_circumference(big):.2f}이고,', end='')\n",
    "print(f'넓이는 {get_circumference(big):.2f}이다.')"
   ]
  },
  {
   "cell_type": "code",
   "execution_count": null,
   "id": "eccb784f",
   "metadata": {},
   "outputs": [],
   "source": [
    "class Circle:\n",
    "    def getCircumference(self):\n",
    "        pass\n",
    "    \n",
    "    def getArea(self):\n",
    "        pass\n",
    "    \n",
    "small = Circle()\n",
    "big = Circle()\n",
    "\n",
    "small.radius = 1 # 객체 small의 반지름 속성을 1로 설정\n",
    "big.radius = 10 # 객체 big의 반지름 속성을 10으로 설정"
   ]
  },
  {
   "cell_type": "code",
   "execution_count": 10,
   "id": "d87bfb7c",
   "metadata": {},
   "outputs": [
    {
     "name": "stdout",
     "output_type": "stream",
     "text": [
      "반지름 1인 원의둘레는 6.28이고, 넓이는 3.14이다.\n",
      "반지름 10인 원의둘레는 62.83이고, 넓이는 314.16이다.\n"
     ]
    }
   ],
   "source": [
    "# 원 클래스 정의부\n",
    "class Circle:\n",
    "    def getCircumference(self):\n",
    "        result = 2 * 3.14159265 * self.radius\n",
    "        return result\n",
    "    \n",
    "    def getArea(self):\n",
    "        result = 3.14159265 * self.radius ** 2\n",
    "        return result\n",
    "    \n",
    "small = Circle()\n",
    "big = Circle()\n",
    "\n",
    "small.radius = 1 # 객체 small의 반지름 속성을 1로 설정\n",
    "big.radius = 10 # 객체 big의 반지름 속성을 10으로 설정\n",
    "\n",
    "print(f'반지름 {small.radius}인 원의', end='')\n",
    "print(f'둘레는 {small.getCircumference():.2f}이고, ', end='')\n",
    "print(f'넓이는 {small.getArea():.2f}이다.')\n",
    "\n",
    "print(f'반지름 {big.radius}인 원의', end='')\n",
    "print(f'둘레는 {big.getCircumference():.2f}이고, ', end='')\n",
    "print(f'넓이는 {big.getArea():.2f}이다.')"
   ]
  },
  {
   "cell_type": "markdown",
   "id": "2d6e8655",
   "metadata": {},
   "source": [
    "# 생성자"
   ]
  },
  {
   "cell_type": "code",
   "execution_count": null,
   "id": "6994c93b",
   "metadata": {},
   "outputs": [
    {
     "name": "stdout",
     "output_type": "stream",
     "text": [
      "반지름 10인 원의둘레는 62.83이고, 넓이는 314.16이다.\n"
     ]
    }
   ],
   "source": [
    "# 생성자를 갖는 원 클래스의 정의와 사용용\n",
    "# 원 클래스의 정의\n",
    "class Circle:\n",
    "    def __init__(self, radius):\n",
    "        self.radius = radius\n",
    "    \n",
    "    def getCircumference(self):\n",
    "        result = 2 * 3.14159265 * self.radius\n",
    "        return result\n",
    "    \n",
    "    def getArea(self):\n",
    "        result = 3.14159265 * self.radius ** 2\n",
    "        return result\n",
    "\n",
    "# 주 프로그램부\n",
    "small = Circle(1) # 반지름 1인 원 객체\n",
    "big = Circle(10) # 반지름 10인 원 객체\n",
    "\n",
    "print(f'반지름 {big.radius}인 원의', end='')\n",
    "print(f'둘레는 {big.getCircumference():.2f}이고, ', end='')\n",
    "print(f'넓이는 {big.getArea():.2f}이다.')"
   ]
  },
  {
   "cell_type": "code",
   "execution_count": null,
   "id": "1791e67f",
   "metadata": {},
   "outputs": [],
   "source": [
    "# 비공개 속성을 갖는 클래스\n",
    "# 원 클래스의 정의\n",
    "\n",
    "class Circle:\n",
    "    def __init__(self, radius):\n",
    "        self.__radius = radius\n",
    "    \n",
    "    def getCircumference(self):\n",
    "        result = 2 * 3.14159265 * self.__radius\n",
    "        return result\n",
    "    \n",
    "    def getArea(self):\n",
    "        result = 3.14159265 * self.__radius ** 2\n",
    "        return result\n",
    "\n",
    "# 주 프로그램부\n",
    "big = Circle(10)\n",
    "big.__radius = -10 # 비공개 속성에 접근하는 표현이 아님\n",
    "\n",
    "print(f'반지름 {big.radius}인 원의', end='')\n",
    "print(f'둘레는 {big.getCircumference():.2f}이고, ', end='')\n",
    "print(f'넓이는 {big.getArea():.2f}이다.')"
   ]
  },
  {
   "cell_type": "code",
   "execution_count": 14,
   "id": "29181d74",
   "metadata": {},
   "outputs": [
    {
     "name": "stdout",
     "output_type": "stream",
     "text": [
      "100\n"
     ]
    }
   ],
   "source": [
    "# 엑세스 메서드의 사용 예예\n",
    "# 원 클래스의 정의\n",
    "\n",
    "class Circle:\n",
    "    def __init__(self, radius):\n",
    "        self.__radius = radius\n",
    "    \n",
    "    def getCircumference(self):\n",
    "        result = 2 * 3.14159265 * self.__radius\n",
    "        return result\n",
    "    \n",
    "    def getArea(self):\n",
    "        result = 3.14159265 * self.__radius ** 2\n",
    "        return result\n",
    "\n",
    "    def setRadius(self, radius):\n",
    "        self.__radius = radius\n",
    "    \n",
    "    def getRadius(self):\n",
    "        return self.__radius\n",
    "\n",
    "# 주 프로그램부\n",
    "big = Circle(10)\n",
    "big.setRadius(100)\n",
    "print(big.getRadius())"
   ]
  },
  {
   "cell_type": "code",
   "execution_count": null,
   "id": "8ef2add9",
   "metadata": {},
   "outputs": [],
   "source": [
    "# 보다 나은 세터 구현사례\n",
    "def setRadius(self, radius):\n",
    "    if radius <= 0:\n",
    "        return False\n",
    "    \n",
    "    self.__radius = radius\n",
    "    return True"
   ]
  },
  {
   "cell_type": "markdown",
   "id": "11c6d1bf",
   "metadata": {},
   "source": [
    "# 클래스 단위 멤버"
   ]
  },
  {
   "cell_type": "code",
   "execution_count": 16,
   "id": "81351a13",
   "metadata": {},
   "outputs": [],
   "source": [
    "# 공통 변수를 갖는 객체들\n",
    "\n",
    "class Circle:\n",
    "    def __init__(self, radius):\n",
    "        self.__PI = 3.14159265\n",
    "        self.__PI = radius\n",
    "    \n",
    "    def getCircumference(self):\n",
    "        result = 2 * self.__PI * self.__radius\n",
    "        return result\n",
    "    \n",
    "    def getArea(self):\n",
    "        result = self.__PI * self.__radius ** 2\n",
    "        return result\n",
    "\n",
    "# 주 프로그램부\n",
    "small = Circle(1)\n",
    "big = Circle(10)"
   ]
  },
  {
   "cell_type": "code",
   "execution_count": 8,
   "id": "f2ea201a",
   "metadata": {},
   "outputs": [
    {
     "name": "stdout",
     "output_type": "stream",
     "text": [
      "(0, 0)\n",
      "(10, 20)\n",
      "(2, 3)\n",
      "x=2, y=3\n"
     ]
    }
   ],
   "source": [
    "# 연습문제 11.1\n",
    "class Point:\n",
    "    def __init__(self, x=0, y=0):\n",
    "        self.__x = x\n",
    "        self.__y = y\n",
    "    def show(self):\n",
    "        print(f'({self.__x}, {self.__y})')\n",
    "        \n",
    "    def set(self, x, y):\n",
    "        self.__x = x\n",
    "        self.__y = y\n",
    "    \n",
    "    def get(self):\n",
    "        return(self.__x, self.__y)\n",
    "    \n",
    "def test():\n",
    "    p1 = Point()\n",
    "    p2 = Point(2,3)\n",
    "    \n",
    "    p1.show()\n",
    "    \n",
    "    p1.set(10,20); p1.show()\n",
    "    p2.show()\n",
    "    \n",
    "    x,y = p2.get()\n",
    "    print(f'x={x}, y={y}')\n",
    "    \n",
    "if __name__ == '__main__':\n",
    "    test()"
   ]
  },
  {
   "cell_type": "code",
   "execution_count": null,
   "id": "57c4fc84",
   "metadata": {},
   "outputs": [
    {
     "name": "stdout",
     "output_type": "stream",
     "text": [
      "09:00\n",
      "09:30\n",
      "10:15\n",
      "유효하지 않은 시각\n"
     ]
    }
   ],
   "source": [
    "# 연습문제 11.2\n",
    "\n",
    "class Time:\n",
    "    def __init__(self, hour=0, minute=0):\n",
    "        self.__hour = hour\n",
    "        self.__minute = minute\n",
    "        \n",
    "    def display(self):\n",
    "        print(f'{self.__hour:02d}:{self.__minute:02d}')\n",
    "        \n",
    "    def add(self,time):\n",
    "        h = self.__hour + time.__hour\n",
    "        m = self.__minute + time.__minute\n",
    "        if m >= 60:\n",
    "            h += 1\n",
    "            m -= 60\n",
    "        return Time(h,m)\n",
    "    \n",
    "    @staticmethod\n",
    "    def is_valid(hour, minute):\n",
    "        if 0 <= hour <= 23 and 0 <= minute <= 59:\n",
    "            return True\n",
    "        else:\n",
    "            return False\n",
    "\n",
    "def main():\n",
    "    t1 = Time(9)\n",
    "    t2 = Time(9,30)\n",
    "    \n",
    "    t1.display()\n",
    "    t2.display()\n",
    "\n",
    "    later = t1.add(Time(1,15))\n",
    "    later.display()\n",
    "    \n",
    "    if Time.is_valid(25,0):\n",
    "        print('유효한 시각')\n",
    "    else:\n",
    "        print('유효하지 않은 시각')\n",
    "\n",
    "if __name__ == '__main__':\n",
    "    main()"
   ]
  },
  {
   "cell_type": "code",
   "execution_count": 14,
   "id": "11d58532",
   "metadata": {},
   "outputs": [
    {
     "name": "stdout",
     "output_type": "stream",
     "text": [
      "좌측 상단 꼭지점이 (5,5)이고 우측 하단 꼭지점이 (20,10)인 사각형입니다.\n",
      "\n",
      "넓이는 -75, 둘레는 20\n"
     ]
    }
   ],
   "source": [
    "# 연습문제 11.3 (개념확인 과제)\n",
    "\n",
    "class Point:\n",
    "    def __init__ (self, x=0, y=0): # 두 꼭짓점\n",
    "        self.x = x\n",
    "        self.y = y\n",
    "\n",
    "class Rectangle:\n",
    "    def __init__(self, x1, y1, x2, y2):\n",
    "        self.lt = Point(x1, y1)\n",
    "        self.rb = Point(x2, y2)\n",
    "    \n",
    "    def show(self): # 현재 사각형의 좌측 상단과 우측 하단 꼭짓점을 화면에 출력력\n",
    "        print(f'좌측 상단 꼭지점이 ({self.lt.x},{self.lt.y})이고 우측 하단 꼭지점이 ({self.rb.x},{self.rb.y})인 사각형입니다.')\n",
    "    \n",
    "    def getWidth(self): # 너비 반환\n",
    "        return (self.rb.x - self.lt.x)\n",
    "    def getHeight(self): # 높이 반환\n",
    "        return (self.lt.y - self.rb.y)\n",
    "    def getArea(self):\n",
    "        return (self.getWidth() * self.getHeight())\n",
    "    def getPerimeter(self):\n",
    "        return (self.getWidth() + self.getHeight()) * 2\n",
    "    \n",
    "    \n",
    "# 주 프로그램부\n",
    "r1 = Rectangle(5, 5, 20, 10)\n",
    "a = r1.getArea()\n",
    "p = r1.getPerimeter()\n",
    "\n",
    "r1.show()\n",
    "print(f'\\n넓이는 {a}, 둘레는 {p}')"
   ]
  }
 ],
 "metadata": {
  "kernelspec": {
   "display_name": "Python 3",
   "language": "python",
   "name": "python3"
  },
  "language_info": {
   "codemirror_mode": {
    "name": "ipython",
    "version": 3
   },
   "file_extension": ".py",
   "mimetype": "text/x-python",
   "name": "python",
   "nbconvert_exporter": "python",
   "pygments_lexer": "ipython3",
   "version": "3.12.8"
  }
 },
 "nbformat": 4,
 "nbformat_minor": 5
}
