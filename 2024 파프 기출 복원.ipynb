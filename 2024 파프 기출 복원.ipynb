{
 "cells": [
  {
   "cell_type": "markdown",
   "id": "222f1c2b",
   "metadata": {},
   "source": [
    "# 누진세 계산 문제\n",
    "사용자로부터 총 금액과 환율을 입력받아 다음을 계산하세요:\n",
    "- 환전된 금액을 기준으로 지폐 개수를 계산합니다.- 예를 들어, 10,000원과 1,000원 지폐로 나누어 계산합니다.\n",
    "\n",
    "- 환전된 금액을 제외한 잔돈을 계산합니다.\n",
    "- 계산된 지폐 개수와 잔돈을 출력합니다."
   ]
  },
  {
   "cell_type": "markdown",
   "id": "a815e026",
   "metadata": {},
   "source": [
    "**입력 형식**\n",
    "금액을 입력하세요: 250000\n",
    "환율을 입력하세요: 870\n",
    "\n",
    "**출력 형식**\n",
    "10,000원 지폐: 2개\n",
    "1,000원 지폐: 1개\n",
    "100원 동전: 3개\n",
    "잔돈: 6400원"
   ]
  },
  {
   "cell_type": "code",
   "execution_count": null,
   "id": "c8d75b56",
   "metadata": {},
   "outputs": [],
   "source": [
    "def calculate_change(total_amount, exchange_rate):\n",
    "    # 환전된 금액 계산\n",
    "    exchanged_amount = total_amount // exchange_rate\n",
    "    \n",
    "    # 지폐와 잔돈 계산\n",
    "    ten_thousand = exchanged_amount // 10000\n",
    "    exchanged_amount %= 10000\n",
    "    \n",
    "    thousand = exchanged_amount // 1000\n",
    "    exchanged_amount %= 1000\n",
    "    \n",
    "    hundred = exchanged_amount // 100\n",
    "    exchanged_amount %= 100\n",
    "    \n",
    "    # 잔돈: 환율로 나눠진 잔금\n",
    "    remaining_change = total_amount % exchange_rate\n",
    "\n",
    "    return ten_thousand, thousand, hundred, remaining_change\n",
    "\n",
    "# 사용자 입력 받기\n",
    "total_amount = int(input(\"금액을 입력하세요: \"))\n",
    "exchange_rate = int(input(\"환율을 입력하세요: \"))\n",
    "\n",
    "# 함수 호출 및 결과 출력\n",
    "result = calculate_change(total_amount, exchange_rate)\n",
    "\n",
    "print(f\"10,000원 지폐: {result[0]}개\")\n",
    "print(f\"1,000원 지폐: {result[1]}개\")\n",
    "print(f\"100원 동전: {result[2]}개\")\n",
    "print(f\"잔돈: {result[3]}원\")"
   ]
  },
  {
   "cell_type": "markdown",
   "id": "e0ea3622",
   "metadata": {},
   "source": [
    "**코드 설명**\n",
    "- calculate_change() 함수:- 입력받은 금액을 환율로 나눠 환전 금액을 계산합니다.\n",
    "- 환전 금액을 기준으로 지폐 개수와 잔돈을 계산합니다.\n",
    "- 잔돈은 total_amount % exchange_rate로 계산됩니다.\n",
    "\n",
    "- 지폐 개수 계산:- 10,000원 지폐 → 1,000원 지폐 → 100원 동전 순으로 나눕니다.\n",
    "- 나눗셈(//)과 나머지(%)를 활용합니다.\n",
    "\n",
    "- 사용자 입력:- input() 함수로 금액과 환율을 입력받습니다.\n",
    "\n",
    "- 결과 출력:- 지폐 개수와 잔돈을 출력합니다."
   ]
  },
  {
   "cell_type": "markdown",
   "id": "6b253a17",
   "metadata": {},
   "source": [
    "# 문제: 비트 연산 계산기\n",
    "사용자로부터 정수 a와 n을 입력받아 다음 두 연산을 수행하세요:\n",
    "- a를 왼쪽으로 n 비트 시프트 (연산 결과와 2진수로 표시).\n",
    "- a를 오른쪽으로 n 비트 시프트 (연산 결과와 2진수로 표시)."
   ]
  },
  {
   "cell_type": "markdown",
   "id": "6d88702d",
   "metadata": {},
   "source": [
    "**입력 형식**\n",
    "비트 연산 계산기입니다.  \n",
    "a와 n 값을 입력하세요 (예: 20 3):  \n",
    "20 3\n",
    "\n",
    "**출력 형식**\n",
    "20 << 3 = 160 (0b10100000)  \n",
    "20 >> 3 = 2 (0b10)"
   ]
  },
  {
   "cell_type": "code",
   "execution_count": null,
   "id": "73ba8126",
   "metadata": {},
   "outputs": [],
   "source": [
    "def left_shift(a, n):\n",
    "    \"\"\"왼쪽 시프트 계산\"\"\"\n",
    "    return a * (2 ** n)\n",
    "\n",
    "def right_shift(a, n):\n",
    "    \"\"\"오른쪽 시프트 계산\"\"\"\n",
    "    return a // (2 ** n)\n",
    "\n",
    "# 프로그램 안내 메시지 출력\n",
    "print(\"비트 연산 계산기입니다.\")\n",
    "\n",
    "# 사용자 입력 받기\n",
    "a, n = map(int, input(\"a와 n 값을 입력하세요 (예: 20 3): \").split())\n",
    "\n",
    "# 계산 수행\n",
    "left_result = left_shift(a, n)\n",
    "right_result = right_shift(a, n)\n",
    "\n",
    "# 결과 출력\n",
    "print(f\"{a} << {n} = {left_result} ({bin(left_result)})\")\n",
    "print(f\"{a} >> {n} = {right_result} ({bin(right_result)})\")"
   ]
  },
  {
   "cell_type": "markdown",
   "id": "55c63f9e",
   "metadata": {},
   "source": [
    "**코드 설명**\n",
    "- left_shift() 함수:- 왼쪽 시프트는 a * (2 ** n)으로 계산합니다. 이는 실제 비트 연산의 효과를 수학적으로 표현한 방식입니다.\n",
    "\n",
    "- right_shift() 함수:- 오른쪽 시프트는 a // (2 ** n)으로 계산합니다. 이 역시 비트 연산 효과를 수학적으로 구현합니다.\n",
    "\n",
    "- 사용자 입력:- input()으로 값을 받으며 split()을 사용해 정수로 분리합니다.\n",
    "- map(int, ...)으로 입력 값을 정수로 변환합니다.\n",
    "\n",
    "- 결과 출력:- bin() 함수를 사용해 값의 2진수 표현을 생성합니다.\n",
    "\n",
    "- 기호와 형식:- 정확히 <<와 >> 기호로 출력되도록 고정하였습니다."
   ]
  }
 ],
 "metadata": {
  "kernelspec": {
   "display_name": "Python 3",
   "language": "python",
   "name": "python3"
  },
  "language_info": {
   "name": "python",
   "version": "3.12.8"
  }
 },
 "nbformat": 4,
 "nbformat_minor": 5
}
