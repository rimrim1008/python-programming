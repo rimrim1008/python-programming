{
 "cells": [
  {
   "cell_type": "markdown",
   "id": "1a7fe2fa",
   "metadata": {},
   "source": [
    "파이썬 12주차"
   ]
  },
  {
   "cell_type": "code",
   "execution_count": 1,
   "id": "2601ce7c",
   "metadata": {},
   "outputs": [
    {
     "name": "stdout",
     "output_type": "stream",
     "text": [
      "파일 열고 닫기 완료\n"
     ]
    }
   ],
   "source": [
    "# 읽기모드로 파일 열기\n",
    "file = open('example.txt', 'r') # 읽기 모드로 텍스트파일 열기\n",
    "file.close()\n",
    "print('파일 열고 닫기 완료')"
   ]
  },
  {
   "cell_type": "code",
   "execution_count": 2,
   "id": "2589c7e7",
   "metadata": {},
   "outputs": [
    {
     "name": "stdout",
     "output_type": "stream",
     "text": [
      "파일 열고 닫기 완료\n"
     ]
    }
   ],
   "source": [
    "# 쓰기 모드로 파일 열기\n",
    "file = open('example.txt', 'w')\n",
    "file.close()\n",
    "print('파일 열고 닫기 완료')"
   ]
  },
  {
   "cell_type": "markdown",
   "id": "d5e15447",
   "metadata": {},
   "source": []
  },
  {
   "cell_type": "code",
   "execution_count": 4,
   "id": "cc9b590d",
   "metadata": {},
   "outputs": [
    {
     "name": "stdout",
     "output_type": "stream",
     "text": [
      "파일 열고 닫기 완료\n"
     ]
    }
   ],
   "source": [
    "# 쓰기 모드로 파일 열기\n",
    "file = open('data/example.txt', 'w') # 텍스트 파일 쓰기 모드\n",
    "file.close()\n",
    "print('파일 열고 닫기 완료')"
   ]
  },
  {
   "cell_type": "code",
   "execution_count": 8,
   "id": "4f03eddc",
   "metadata": {},
   "outputs": [
    {
     "name": "stdout",
     "output_type": "stream",
     "text": [
      "파일 열고 닫기 완료\n",
      "끝\n"
     ]
    }
   ],
   "source": [
    "import os\n",
    "\n",
    "filename = 'example.txt'\n",
    "if os.path.exists(filename): #파일이 존재하는지 검사\n",
    "    file = open(filename, 'r') #텍스트 파일읽기모드로 열기\n",
    "    file.close() #파일 닫기\n",
    "    print('파일 열고 닫기 완료')\n",
    "else:\n",
    "    print(f'ERROR: {filename}이 존재하지 않습니다!')\n",
    "\n",
    "print('끝')"
   ]
  },
  {
   "cell_type": "code",
   "execution_count": null,
   "id": "a0191fa7",
   "metadata": {},
   "outputs": [],
   "source": [
    "import os\n",
    "if not(os.path.isdir('data')): # isdir() 디렉터리의 존재 여부를 반환\n",
    "    os.makedirs('data') # makedirs() 현재 경로상에 인수로 지정한 이름의 서브디렉토리 생성"
   ]
  },
  {
   "cell_type": "markdown",
   "id": "38ffd762",
   "metadata": {},
   "source": [
    "**import os** 를 하는 이유\n",
    "- 운영 체제 (os)와 상호작용하기 위해서\n",
    "- os모듈 : 파일, 디렉토리, 경로 등을 다루는 다양한 기능을 함.\n",
    "- 이를 활용하면 운영 체제 종속적인 작업을 쉽게 처리 가능.\n",
    "\n",
    "---\n",
    "isdir()은 해당 디렉터리가 존재하는 경우 → True값을 반환한다.\n",
    "\n",
    "data 디렉터리가 존재하지 않으면 → data라는 디렉터리를 생성하는 코드.\n"
   ]
  },
  {
   "cell_type": "code",
   "execution_count": 10,
   "id": "12796c21",
   "metadata": {},
   "outputs": [],
   "source": [
    "# 절대 경로로 디렉터리 생성 (교수님 추가 코드)\n",
    "import os\n",
    "if not(os.path.isdir('c:/data')):\n",
    "    os.makedirs('c:/data')\n",
    "file = open('c:/data/ex.txt', 'w')\n",
    "file.close()"
   ]
  },
  {
   "cell_type": "code",
   "execution_count": null,
   "id": "bb2338c3",
   "metadata": {},
   "outputs": [
    {
     "name": "stdout",
     "output_type": "stream",
     "text": [
      "파일 열고 닫기 완료\n"
     ]
    }
   ],
   "source": [
    "# with 키워드로 쓰기 모드의 파일 열기\n",
    "with open('data/example.txt', 'w') as file:\n",
    "    pass # file에 대해 파일 입출력 처리 문장으로 대체\n",
    "print('파일 열고 닫기 완료')"
   ]
  },
  {
   "cell_type": "markdown",
   "id": "84fbe305",
   "metadata": {},
   "source": [
    "**with**문을 사용하는 이유\n",
    "- 자동으로 파일을 닫아줌 (close() 생략 가능)\n",
    "- 예외가 발생해도 파일이 안전하게 닫힘.\n",
    "- 코드가 간결하고 가독성이 좋음.\n",
    "=>\n",
    "\n",
    "1. 파일을 열고 작업한 후 반드시 닫아야 할 때\n",
    "2. 예외 처리가 필요한 경우\n",
    "3. 파일을 열고 여러 줄을 작업할 때\n",
    "=> with문을 사용하면 좋다~\n",
    "\n",
    "(내가 아는 건 SQL WITH문밖에 없는데.ㅠㅠ)\n",
    "\n",
    "**with open~~**\n",
    "- 파일 존재 → 그대로 열리고\n",
    "- 존재 안함 → 해당 이름의 파일 자동 생성\n",
    "\n",
    "---\n",
    "**as file**\n",
    "- 파일 객체를 변수 (file)로 저장하는 역할\n",
    "- with문은 파일이 자동으로 닫히기 때문에 file.close()를 직접 호출할 필요 없음\n",
    "---\n",
    "**pass**\n",
    "- 아무 작업도 하지 않고 문법적으로 코듭 블록을 유지하기 위한 명령어\n",
    "- pass를 사용하지 않을 경우? → 문법적으로 빈 코드 블록을 허용하지 않기 때문에 오류가 발생할 수도 있다."
   ]
  },
  {
   "cell_type": "markdown",
   "id": "444f7778",
   "metadata": {},
   "source": [
    "## 텍스트 파일에 읽고 쓰기"
   ]
  },
  {
   "cell_type": "code",
   "execution_count": 11,
   "id": "75e6f451",
   "metadata": {},
   "outputs": [
    {
     "name": "stdout",
     "output_type": "stream",
     "text": [
      "끝\n"
     ]
    }
   ],
   "source": [
    "# 텍스트 파일에 정보 저장\n",
    "num = 2\n",
    "name = '홍길동'\n",
    "with open('data/example.txt', 'w') as file:\n",
    "    file.write('1 이찬수\\n') #하나의 문자열을 저장\n",
    "    file.write(f'{num} {name}\\n')\n",
    "    \n",
    "print('끝')"
   ]
  },
  {
   "cell_type": "markdown",
   "id": "5eabeece",
   "metadata": {},
   "source": [
    "**file.write()**\n",
    "- 파일에 괄호 안의 문자열을 기록하는 역할\n",
    "- 파일이 'w'모드일 경우 기존 내용 뒤에 추가\n",
    "- 파일이 'a' 모드일 경우 기존 내용 덮어쓰기\n",
    "\n",
    "---\n",
    "**as file**\n",
    "- 파일을 다룰 때 변수로 관리하기위해 file이라는 변수로 지정해주는 것.\n",
    "- file은 변수 이름일 뿐, 반드시 as file을 해줘야 하는 것은 아님. (다른 이름으로도 지정 가능)"
   ]
  },
  {
   "cell_type": "code",
   "execution_count": 12,
   "id": "f9437a08",
   "metadata": {},
   "outputs": [
    {
     "data": {
      "text/plain": [
       "<_io.TextIOWrapper name='data/example.txt' mode='r' encoding='utf8'>"
      ]
     },
     "execution_count": 12,
     "metadata": {},
     "output_type": "execute_result"
    }
   ],
   "source": [
    "# open(경로명/대상파일명', mode='열기모드', encoding='문자셋')\n",
    "open('data/example.txt', mode='r', encoding='utf8')"
   ]
  },
  {
   "cell_type": "code",
   "execution_count": null,
   "id": "9ccc3868",
   "metadata": {},
   "outputs": [
    {
     "name": "stdout",
     "output_type": "stream",
     "text": [
      "1 이찬수\n",
      "2 홍길동\n",
      "\n"
     ]
    }
   ],
   "source": [
    "with open('data/example.txt', 'r') as file:\n",
    "    all = file.read() # read() 전체 내용을 하나의 문자열로 반환\n",
    "print(all)"
   ]
  },
  {
   "cell_type": "code",
   "execution_count": 14,
   "id": "7703c3ae",
   "metadata": {},
   "outputs": [
    {
     "name": "stdout",
     "output_type": "stream",
     "text": [
      "['1 이찬수\\n', '2 홍길동\\n']\n"
     ]
    }
   ],
   "source": [
    "lines = []\n",
    "with open('data/example.txt', 'r') as file:\n",
    "    lines = file.readlines() # 전체를 하나의 리스트로 반환\n",
    "    \n",
    "print(lines)"
   ]
  },
  {
   "cell_type": "markdown",
   "id": "a5084d58",
   "metadata": {},
   "source": [
    "**readlines()**\n",
    ": 전체를 하나의 리스트로 반환\n",
    "- 파일의 모든 줄을 각각 리스트의 요소로 저장.\n",
    "- 각 줄을 개별 문자열로 리스트에 넣어 반환\n",
    "- (but) \\n 줄바꿈 개행문자 포함."
   ]
  },
  {
   "cell_type": "code",
   "execution_count": 14,
   "id": "19bebbbb",
   "metadata": {},
   "outputs": [
    {
     "name": "stdout",
     "output_type": "stream",
     "text": [
      "['1 이찬수', '2 홍길동']\n"
     ]
    }
   ],
   "source": [
    "lines = []\n",
    "with open('data/example.txt', 'r') as file:\n",
    "    while True:\n",
    "        line = file.readline() # 한 줄을 읽어 반환\n",
    "        \n",
    "        if line == '':\n",
    "            break\n",
    "        \n",
    "        lines.append(line.strip())\n",
    "        \n",
    "print(lines)\n"
   ]
  },
  {
   "cell_type": "markdown",
   "id": "927ebc73",
   "metadata": {},
   "source": [
    "**strip()**\n",
    "- 문자열 앞뒤에 있는 공백, 개행문자(\\n, \\r)을 제거함\n",
    "- 문자열 중간에 있는 개행문자는 제거되지 않음\n",
    "- lstrip (왼쪽만 제거)\n",
    "- rstrip (오른쪽만 제거)"
   ]
  },
  {
   "cell_type": "markdown",
   "id": "c3bd32b1",
   "metadata": {},
   "source": [
    "## 이진 파일에 쓰고 읽기"
   ]
  },
  {
   "cell_type": "markdown",
   "id": "e4c32bb4",
   "metadata": {},
   "source": [
    "**이진 파일**\n",
    "- 이진 데이터값 그대로 저장\n",
    "- 이 형식을 이해할 수 있는 프로그램에 의해서만 데이터 판독 가능\n",
    "- 텍스트 파일에 비해 데이터를 좀 더 효율적으로 저장 가능"
   ]
  },
  {
   "cell_type": "markdown",
   "id": "a6a9c3d4",
   "metadata": {},
   "source": [
    "**pickle 모듈**\n",
    "- **피클링(pickling)**\n",
    "    - 데이터를 바이트 나열로 변환하는 직렬화 (이진 데이터로 변환)\n",
    "    - pickle.dump\n",
    "- **언피클링(unpickling)**\n",
    "    - 바이트 나열로부터 데이터를 복원하는 역직렬화\n",
    "    - pickle.load\n",
    "- 바이트 나열로 변환된 데이터를 DB나 파일에 저장 OR 네트워크 전송에 사용"
   ]
  },
  {
   "cell_type": "code",
   "execution_count": null,
   "id": "00a7eacc",
   "metadata": {},
   "outputs": [],
   "source": [
    "# 피클링하여 이진 파일에 저장하기\n",
    "# (인수로 지정한 데이터를 바이트 나열로 변환해 저장)\n",
    "import pickle\n",
    "pickle.dump(저장할_데이터, 이진쓰기모드로_열린_파일객체)"
   ]
  },
  {
   "cell_type": "code",
   "execution_count": null,
   "id": "2b9f8570",
   "metadata": {},
   "outputs": [],
   "source": [
    "# 이진파일로부터 언피클링하여 복원하기\n",
    "# (저장 순서대로 일ㄺ어들여 복원 후 반환)\n",
    "import pickle\n",
    "pickle.load(이진읽기모드로_열린_파일객체) # 읽은 데이터 반환"
   ]
  },
  {
   "cell_type": "code",
   "execution_count": 15,
   "id": "52cb0e3b",
   "metadata": {},
   "outputs": [
    {
     "name": "stdout",
     "output_type": "stream",
     "text": [
      "123\n",
      "홍길동\n",
      "180.5\n",
      "{'mid': 90, 'fin': 95, 'rep': 10, 'att': 10}\n"
     ]
    }
   ],
   "source": [
    "import pickle\n",
    "\n",
    "filepath = 'data/example.bin' # 데이터 파일에 대한 파일경로명\n",
    "\n",
    "# 사용자 정의 함수부\n",
    "def save_data(num, name, height, scores): #피클링하여 저장\n",
    "    with open(filepath, 'wb') as file:\n",
    "        pickle.dump(num, file)\n",
    "        pickle.dump(name,file)\n",
    "        pickle.dump(height,file)\n",
    "        pickle.dump(scores,file)\n",
    "\n",
    "def load_data(): #언피클링해 반환\n",
    "    with open(filepath, 'rb') as file:\n",
    "        num = pickle.load(file)\n",
    "        name = pickle.load(file)\n",
    "        height = pickle.load(file)\n",
    "        scores = pickle.load(file)\n",
    "        \n",
    "    return num, name, height, scores #튜플로 반환\n",
    "\n",
    "# 주 프로그램부\n",
    "num, name, height = 123, '홍길동', 180.5\n",
    "scores = {'mid':90, 'fin':95, 'rep':10, 'att':10}\n",
    "\n",
    "# 저장하기\n",
    "save_data(num, name, height, scores)\n",
    "\n",
    "# 불러오기\n",
    "r_num, r_name, r_height, r_scores = load_data()\n",
    "\n",
    "# 불러온 값 출력\n",
    "print(r_num)\n",
    "print(r_name)\n",
    "print(r_height)\n",
    "print(r_scores)"
   ]
  },
  {
   "cell_type": "markdown",
   "id": "c2560cbd",
   "metadata": {},
   "source": [
    "## 연습문제"
   ]
  },
  {
   "cell_type": "code",
   "execution_count": 20,
   "id": "1008b978",
   "metadata": {},
   "outputs": [
    {
     "name": "stdout",
     "output_type": "stream",
     "text": [
      "readme.txt\n",
      "1: 안녕하세요, 반갑습니다\n",
      "2: 이 파일은 텍스트 파일 저작을 위해 작성된 텍스트 문서입니다.\n",
      "3: 조금 낯설더라도 포기하지마세요.\n"
     ]
    }
   ],
   "source": [
    "# 연습문제 12.1\n",
    "\n",
    "# 사용자 정의 함수부\n",
    "def show_file(filename):\n",
    "    with open(filename, mode='r', encoding='utf8') as file:\n",
    "        i = 1\n",
    "        while True:\n",
    "            line = file.readline() # 한 줄을 읽어 반환\n",
    "            \n",
    "            if line == '':\n",
    "                break\n",
    "            \n",
    "            print(f'{i}: {line.strip()}')\n",
    "            i += 1\n",
    "            \n",
    "# 주 프로그램부\n",
    "fn = input('파일명: ')\n",
    "print(fn)\n",
    "show_file(fn)"
   ]
  },
  {
   "cell_type": "code",
   "execution_count": 24,
   "id": "a393a25d",
   "metadata": {},
   "outputs": [
    {
     "name": "stdout",
     "output_type": "stream",
     "text": [
      "[파일 읽기]\n",
      "['바나나', '사과']\n",
      "[구입]\n",
      "장바구니에 바나나가(이) 담겼습니다\n",
      "\n",
      "[구입]\n",
      "장바구니에 파인애플가(이) 담겼습니다\n",
      "\n",
      "[구입]\n",
      "['바나나', '사과', '바나나', '파인애플']\n"
     ]
    }
   ],
   "source": [
    "# 연습문제 12.3\n",
    "import os\n",
    "\n",
    "filename = 'shoppingbag.txt'\n",
    "\n",
    "def buy(sb):\n",
    "    print('[구입]')\n",
    "    item = input('상품명? ')\n",
    "    \n",
    "    if item =='':\n",
    "        return False\n",
    "    \n",
    "    sb.append(item)\n",
    "    print(f'장바구니에 {item}가(이) 담겼습니다\\n')\n",
    "    return True\n",
    "\n",
    "def show(sb):\n",
    "    print(sb)\n",
    "    \n",
    "def save_data(sb,filepath):\n",
    "    with open(filepath, 'w', encoding='utf8') as file:\n",
    "        for item in sb:\n",
    "            file.write(f'{item}\\n')\n",
    "            \n",
    "def load_data(filepath):\n",
    "    lines=[]\n",
    "    with open(filepath, 'r', encoding='utf8') as file:\n",
    "        for line in file:\n",
    "            lines.append(line.strip('\\n'))\n",
    "    return lines\n",
    "\n",
    "if os.path.exists(filename):\n",
    "    print('[파일 읽기]')\n",
    "    shopping_bag = load_data(filename)\n",
    "    show(shopping_bag)\n",
    "    \n",
    "else:\n",
    "    shopping_bag = []\n",
    "    \n",
    "while True:\n",
    "    if buy(shopping_bag) == False:\n",
    "        break\n",
    "show(shopping_bag)\n",
    "\n",
    "save_data(shopping_bag, filename)"
   ]
  },
  {
   "cell_type": "code",
   "execution_count": null,
   "id": "5dcdc2d4",
   "metadata": {},
   "outputs": [],
   "source": [
    "# 연습문제 12.4 (이 코드 아님)\n",
    "\n",
    "import os\n",
    "import pickle\n",
    "from datetime import datetime\n",
    "from mytime import Time\n",
    "filename = 'last.dat'\n",
    "\n",
    "# 사용자 정의 함수부\n",
    "def get_current_time():\n",
    "    now = datetime.now()\n",
    "    return Time(now.hour, now.minute)\n",
    "def save_time(time):\n",
    "    with open(filename, 'wb') as file:\n",
    "        pickle.dump(time, file)\n",
    "def load_time():\n",
    "    with open(filename, 'rb') as file:\n",
    "        t = pickle.load(file)\n",
    "    return t\n",
    "    \n",
    "# 추가 구현\n",
    "def toString(self):\n",
    "    return f'{self.__hour:02d}:{self.__minute:02d}'\n",
    "\n",
    "# 사용자 정의 함수부\n",
    "def main():\n",
    "    t1 = Time(9)\n",
    "    t2 = Time(9, 30)\n",
    "    \n",
    "    t1.toString()\n",
    "    t2.toString()"
   ]
  },
  {
   "cell_type": "code",
   "execution_count": 22,
   "id": "45c9f40d",
   "metadata": {},
   "outputs": [
    {
     "name": "stdout",
     "output_type": "stream",
     "text": [
      "안녕하세요. 마지막으로 05:02에 실행되었습니다.\n",
      "지금은 05:07입니다.\n"
     ]
    }
   ],
   "source": [
    "# 연습문제 12.4\n",
    "\n",
    "import os\n",
    "import pickle\n",
    "from datetime import datetime\n",
    "from mytime import Time\n",
    "\n",
    "filename = 'last.dat'\n",
    "\n",
    "def get_current_time():\n",
    "    now = datetime.now()\n",
    "    return Time(now.hour, now.minute)\n",
    "\n",
    "#시간을 파일에 저장\n",
    "def save_time(time):\n",
    "    with open(filename, 'wb') as file:\n",
    "        pickle.dump(time, file)\n",
    "        \n",
    "#파일에서 시간을 불러오는 함수\n",
    "def load_time():\n",
    "    with open(filename, 'rb') as file:\n",
    "        t = pickle.load(file)\n",
    "    return t\n",
    "\n",
    "#메인 프로그램\n",
    "if os.path.exists(filename):\n",
    "    t = load_time()\n",
    "    print(f'안녕하세요. 마지막으로 {t.display()}에 실행되었습니다.')\n",
    "else:\n",
    "    print('안녕하세요. 처음 실행되었습니다.')\n",
    "    \n",
    "t = get_current_time()\n",
    "print(f'지금은 {t.display()}입니다.')\n",
    "save_time(t)\n",
    "    "
   ]
  },
  {
   "cell_type": "markdown",
   "id": "310c9465",
   "metadata": {},
   "source": [
    "# 과제"
   ]
  },
  {
   "cell_type": "code",
   "execution_count": 52,
   "id": "315d684f",
   "metadata": {},
   "outputs": [],
   "source": [
    "import os\n",
    "if os.path.exists(filepath):  \n",
    "    os.remove(filepath)  # 파일 삭제"
   ]
  },
  {
   "cell_type": "code",
   "execution_count": null,
   "id": "f564d585",
   "metadata": {},
   "outputs": [
    {
     "name": "stdout",
     "output_type": "stream",
     "text": [
      "[점수입력]\n",
      "[점수출력]\n",
      "\n",
      "개인점수:30 5 \n",
      "평균:17.5\n"
     ]
    }
   ],
   "source": [
    "# 연습문제 12.2 (과제)\n",
    "\n",
    "import pickle\n",
    "import os\n",
    "filepath = 'score.bin'\n",
    "\n",
    "# 사용자 정의 함수부\n",
    "def input_scores():\n",
    "    scores = []\n",
    "    i = 0\n",
    "    while True:\n",
    "        n = int(input(f'#{i+1}? '))\n",
    "        if n < 0:\n",
    "            break\n",
    "        scores.append(n)\n",
    "        i += 1\n",
    "    return scores\n",
    "\n",
    "def get_average(s):\n",
    "    total = 0\n",
    "    for n in s:\n",
    "        total += n\n",
    "    return total / len(s)\n",
    "\n",
    "def show_scores(s):\n",
    "    for n in s:\n",
    "        print(n, end=' ')\n",
    "    print()\n",
    "\n",
    "# save/load 기능 추가\n",
    "def save_data (score, avg):\n",
    "    with open (filepath, 'wb') as file:\n",
    "        pickle.dump(score, file)\n",
    "        pickle.dump(avg, file)\n",
    "\n",
    "def load_data():\n",
    "    with open(filepath, 'rb') as file:\n",
    "        score = pickle.load(file)\n",
    "        avg = pickle.load(file)\n",
    "        return score, avg\n",
    "\n",
    "\n",
    "if os.path.exists (filepath):\n",
    "    print(\"[파일 읽기]\\n\")\n",
    "    score, avg = load_data()\n",
    "    print('[점수 출력]\\n')\n",
    "    print(f'개인점수:', end='')\n",
    "    show_scores(score)\n",
    "    \n",
    "    print(f'평균:{avg:.1f}')\n",
    "\n",
    "else:\n",
    "    print(\"[점수입력]\")\n",
    "    S = input_scores()\n",
    "    avg = get_average(S)\n",
    "    print('[점수출력]\\n')\n",
    "    print(f'개인점수:', end='')\n",
    "    show_scores(S)\n",
    "    print(f'평균:{avg:.1f}')\n",
    "    save_data(S, avg)"
   ]
  },
  {
   "cell_type": "code",
   "execution_count": null,
   "id": "a522ad32",
   "metadata": {},
   "outputs": [
    {
     "name": "stdout",
     "output_type": "stream",
     "text": [
      "[파일 읽기]\n",
      "\n",
      "[점수 출력]\n",
      "\n",
      "개인점수: 30 5 \n",
      "평균: 17.5\n"
     ]
    }
   ],
   "source": [
    "#연습문제 12.2\n",
    "import pickle\n",
    "import os\n",
    "filepath = 'score.bin'\n",
    "\n",
    "def input_scores():\n",
    "    scores = []\n",
    "    i = 0\n",
    "    while True:\n",
    "        n = int(input(f'#{i+1}? '))\n",
    "        if n < 0:\n",
    "            break\n",
    "        scores.append(n)\n",
    "        i += 1\n",
    "    return scores        \n",
    "def get_average(scores):\n",
    "    total = 0\n",
    "    for i in scores:\n",
    "        total += i\n",
    "    avg = total / len(scores)\n",
    "    return avg\n",
    "def show_scores(scores):\n",
    "    for n in scores:\n",
    "        print(n, end=' ')\n",
    "    print()\n",
    "\n",
    "#save/load\n",
    "def save_data(scores,avg):\n",
    "    with open(filepath, 'wb') as file:\n",
    "        pickle.dump(scores, file)\n",
    "        pickle.dump(avg, file)\n",
    "def load_data():\n",
    "    with open(filepath, 'rb') as file:\n",
    "        scores = pickle.load(file)\n",
    "        avg = pickle.load(file)\n",
    "    return scores, avg\n",
    "\n",
    "if os.path.exists(filepath):\n",
    "    print('[파일 읽기]\\n')\n",
    "    scores, avg = load_data()\n",
    "    print('[점수 출력]')\n",
    "    print('\\n개인점수: ',end='')\n",
    "    show_scores(scores)\n",
    "    print(f'평균: {avg:.1f}')\n",
    "    \n",
    "else:\n",
    "    print('[점수 입력]')\n",
    "    S = input_scores()\n",
    "    avg = get_average(S)\n",
    "    print('\\n[점수 출력]')\n",
    "    print('\\n개인점수: ',end='')\n",
    "    show_scores(S)\n",
    "    print(f'평균: {avg:.1f}')\n",
    "    save_data(S,avg)"
   ]
  }
 ],
 "metadata": {
  "kernelspec": {
   "display_name": "Python 3",
   "language": "python",
   "name": "python3"
  },
  "language_info": {
   "codemirror_mode": {
    "name": "ipython",
    "version": 3
   },
   "file_extension": ".py",
   "mimetype": "text/x-python",
   "name": "python",
   "nbconvert_exporter": "python",
   "pygments_lexer": "ipython3",
   "version": "3.12.8"
  }
 },
 "nbformat": 4,
 "nbformat_minor": 5
}
